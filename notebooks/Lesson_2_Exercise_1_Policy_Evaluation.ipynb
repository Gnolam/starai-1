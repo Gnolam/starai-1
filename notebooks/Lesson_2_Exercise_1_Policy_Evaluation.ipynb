{
 "cells": [
  {
   "cell_type": "markdown",
   "metadata": {
    "colab": {},
    "colab_type": "code",
    "id": "w2c6Tfn8cqLI"
   },
   "source": [
    "```\n",
    "          _____                _____                    _____                    _____                    _____                      ____          \n",
    "         /\\    \\              /\\    \\                  /\\    \\                  /\\    \\                  /\\    \\                  /\\    \\         \n",
    "        /::\\    \\            /::\\    \\                /::\\    \\                /::\\    \\                /::\\    \\                /::\\    \\        \n",
    "       /::::\\    \\           \\:::\\    \\              /::::\\    \\              /::::\\    \\              /::::\\    \\               \\:::\\    \\       \n",
    "      /::::::\\    \\           \\:::\\    \\            /::::::\\    \\            /::::::\\    \\            /::::::\\    \\               \\:::\\    \\      \n",
    "     /:::/\\:::\\    \\           \\:::\\    \\          /:::/\\:::\\    \\          /:::/\\:::\\    \\          /:::/\\:::\\    \\               \\:::\\    \\     \n",
    "    /:::/__\\:::\\    \\           \\:::\\    \\        /:::/__\\:::\\    \\        /:::/__\\:::\\    \\        /:::/__\\:::\\    \\               \\:::\\    \\    \n",
    "    \\:::\\   \\:::\\    \\          /::::\\    \\      /::::\\   \\:::\\    \\      /::::\\   \\:::\\    \\      /::::\\   \\:::\\    \\              /::::\\    \\   \n",
    "  ___\\:::\\   \\:::\\    \\        /::::::\\    \\    /::::::\\   \\:::\\    \\    /::::::\\   \\:::\\    \\    /::::::\\   \\:::\\    \\    ____    /::::::\\    \\  \n",
    " /\\   \\:::\\   \\:::\\    \\      /:::/\\:::\\    \\  /:::/\\:::\\   \\:::\\    \\  /:::/\\:::\\   \\:::\\____\\  /:::/\\:::\\   \\:::\\    \\  /\\   \\  /:::/\\:::\\    \\ \n",
    "/::\\   \\:::\\   \\:::\\____\\    /:::/  \\:::\\____\\/:::/  \\:::\\   \\:::\\____\\/:::/  \\:::\\   \\:::|    |/:::/  \\:::\\   \\:::\\____\\/::\\   \\/:::/  \\:::\\____\\\n",
    "\\:::\\   \\:::\\   \\::/    /   /:::/    \\::/    /\\::/    \\:::\\  /:::/    /\\::/   |::::\\  /:::|____|\\::/    \\:::\\  /:::/    /\\:::\\  /:::/    \\::/    /\n",
    " \\:::\\   \\:::\\   \\/____/   /:::/    / \\/____/  \\/____/ \\:::\\/:::/    /  \\/____|:::::\\/:::/    /  \\/____/ \\:::\\/:::/    /  \\:::\\/:::/    / \\/____/ \n",
    "  \\:::\\   \\:::\\    \\      /:::/    /                    \\::::::/    /         |:::::::::/    /            \\::::::/    /    \\::::::/    /          \n",
    "   \\:::\\   \\:::\\____\\    /:::/    /                      \\::::/    /          |::|\\::::/    /              \\::::/    /      \\::::/____/           \n",
    "    \\:::\\  /:::/    /    \\::/    /                       /:::/    /           |::| \\::/____/               /:::/    /        \\:::\\    \\           \n",
    "     \\:::\\/:::/    /      \\/____/                       /:::/    /            |::|  ~|                    /:::/    /          \\:::\\    \\          \n",
    "      \\::::::/    /                                    /:::/    /             |::|   |                   /:::/    /            \\:::\\    \\         \n",
    "       \\::::/    /                                    /:::/    /              \\::|   |                  /:::/    /              \\:::\\____\\        \n",
    "        \\::/    /                                     \\::/    /                \\:|   |                  \\::/    /                \\::/    /        \n",
    "         \\/____/                                       \\/____/                  \\|___|                   \\/____/                  \\/____/         \n",
    "```"
   ]
  },
  {
   "cell_type": "markdown",
   "metadata": {
    "colab_type": "text",
    "id": "6qO-G91QVrYN"
   },
   "source": [
    "# Policy Evaluation Exercise"
   ]
  },
  {
   "cell_type": "markdown",
   "metadata": {
    "colab_type": "text",
    "id": "bAr7D9r8Vxns"
   },
   "source": [
    "## Dependency installation\n",
    "\n",
    "If current option doesn't work, try to execute commented lines."
   ]
  },
  {
   "cell_type": "code",
   "execution_count": null,
   "metadata": {
    "colab": {},
    "colab_type": "code",
    "id": "yUrdYdb9kN7x"
   },
   "outputs": [],
   "source": [
    "# !python -m pip install -e git+https://github.com/star-ai/rl-environments.git#egg=rlenvs\n",
    "# !python -m pip install gym\n",
    "!pip install -e git+https://github.com/star-ai/rl-environments.git#egg=rlenvs\n",
    "!pip install gym"
   ]
  },
  {
   "cell_type": "markdown",
   "metadata": {
    "colab_type": "text",
    "id": "rAqak04mWC4b"
   },
   "source": [
    "## Import dependecies"
   ]
  },
  {
   "cell_type": "code",
   "execution_count": 6,
   "metadata": {},
   "outputs": [
    {
     "name": "stdout",
     "output_type": "stream",
     "text": [
      "Obtaining rlenvs from git+https://github.com/star-ai/rl-environments.git#egg=rlenvs\n",
      "  Updating ./src/rlenvs clone\n",
      "\u001b[31mtwisted 18.7.0 requires PyHamcrest>=1.9.0, which is not installed.\u001b[0m\n",
      "Installing collected packages: rlenvs\n",
      "  Found existing installation: rlenvs 0.1\n",
      "    Uninstalling rlenvs-0.1:\n",
      "      Successfully uninstalled rlenvs-0.1\n",
      "  Running setup.py develop for rlenvs\n",
      "Successfully installed rlenvs\n",
      "\u001b[33mYou are using pip version 10.0.1, however version 18.0 is available.\n",
      "You should consider upgrading via the 'pip install --upgrade pip' command.\u001b[0m\n"
     ]
    }
   ],
   "source": [
    "!pip install -e git+https://github.com/star-ai/rl-environments.git#egg=rlenvs"
   ]
  },
  {
   "cell_type": "code",
   "execution_count": 1,
   "metadata": {
    "colab": {},
    "colab_type": "code",
    "id": "0evCgEg-kH0Y"
   },
   "outputs": [],
   "source": [
    "from IPython.core.debugger import set_trace\n",
    "import numpy as np\n",
    "import pprint\n",
    "\n",
    "# Import below can all of a sudden break\n",
    "# NOTE: if running locally, remove src.rlenvs from import\n",
    "from rlenvs.envs.gridworld import GridworldEnv"
   ]
  },
  {
   "cell_type": "markdown",
   "metadata": {
    "colab_type": "text",
    "id": "Bchk-IS7WTCB"
   },
   "source": [
    "## Create Environment\n",
    "\n",
    "OpenAI env. \n",
    "\n",
    "- **`env.P`** represents the transition probabilities of the environment.\n",
    "- **`env.P[s][a]`** is a list of transition tuples `(prob, next_state, reward, done).`\n",
    "- **`env.nS`** is a number of states in the environment. \n",
    "- **`env.nA`** is a number of actions in the environment."
   ]
  },
  {
   "cell_type": "code",
   "execution_count": 4,
   "metadata": {
    "colab": {},
    "colab_type": "code",
    "id": "zrDI70xEkH0b"
   },
   "outputs": [
    {
     "data": {
      "text/plain": [
       "Discrete(4)"
      ]
     },
     "execution_count": 4,
     "metadata": {},
     "output_type": "execute_result"
    }
   ],
   "source": [
    "env = GridworldEnv()\n",
    "env.action_space"
   ]
  },
  {
   "cell_type": "markdown",
   "metadata": {
    "colab_type": "text",
    "id": "-4l6uZYvzRZi"
   },
   "source": [
    "## What we implement\n",
    "\n",
    "$$\n",
    "v(s) = R_s + \\gamma \\sum_{s' \\in S} P_{ss'}V(s')\n",
    "$$"
   ]
  },
  {
   "cell_type": "markdown",
   "metadata": {
    "colab_type": "text",
    "id": "JfGUC1AcW9W3"
   },
   "source": [
    "## Implementation\n",
    "\n",
    "### Function to calculate state value"
   ]
  },
  {
   "cell_type": "code",
   "execution_count": 7,
   "metadata": {
    "colab": {},
    "colab_type": "code",
    "id": "V_PdgdOzPK05"
   },
   "outputs": [],
   "source": [
    "def calculate_state_value(policy, state, env, V, discount_factor):\n",
    "    \"\"\"\"\n",
    "    Calculate state value given policy, state, and current state value function.\n",
    "\n",
    "    Args:\n",
    "      policy: Policy - [S, A] matrix of probabilities of action A given state S\n",
    "      env: Environment.\n",
    "        env.P[s][a] return list of transition tuples (transition_probability, \n",
    "          next_state, reward, done).\n",
    "      V: current state value function, V[s] return value for state s.\n",
    "    \"\"\"\n",
    "    v = 0\n",
    "    # Look at the possible next actions\n",
    "    for a, action_prob in enumerate(policy[state]):\n",
    "        # For each action, look at the possible next states...\n",
    "        for prob, next_state, reward, done in env.P[state][a]:\n",
    "            # Calculate the expected value\n",
    "            v += action_prob * prob * (reward + discount_factor * V[next_state])\n",
    "    return v"
   ]
  },
  {
   "cell_type": "markdown",
   "metadata": {
    "colab_type": "text",
    "id": "rP2wM3wfXMjN"
   },
   "source": [
    "### Function to calculate all states values and maximum change between current state values and new state values\n",
    "\n",
    "The change is required to identify if the State-value function is converged to the optimal."
   ]
  },
  {
   "cell_type": "code",
   "execution_count": 13,
   "metadata": {
    "colab": {},
    "colab_type": "code",
    "id": "G702rqE2Ts__"
   },
   "outputs": [],
   "source": [
    "def run_full_sweep(policy, env, V, discount_factor):\n",
    "    \"\"\"\n",
    "    Run a full sweep over states.\n",
    "    \"\"\"\n",
    "    new_V = np.zeros(env.nS)\n",
    "    delta = 0\n",
    "    # For each state, perform a \"full backup\"\n",
    "    for s in range(env.nS):\n",
    "        v = calculate_state_value(policy, s, env, V, discount_factor)\n",
    "\n",
    "        # How much our value function changed (across any states)\n",
    "        delta = max(delta, np.abs(v - V[s]))\n",
    "        new_V[s] = v\n",
    "    return new_V, delta"
   ]
  },
  {
   "cell_type": "markdown",
   "metadata": {
    "colab_type": "text",
    "id": "htz1lhTWXlo-"
   },
   "source": [
    "### Function to evaluate given policy"
   ]
  },
  {
   "cell_type": "code",
   "execution_count": 14,
   "metadata": {
    "colab": {},
    "colab_type": "code",
    "id": "Tub2Xxs6kH0d"
   },
   "outputs": [],
   "source": [
    "def policy_eval(policy, env, discount_factor=1.0, theta=0.00001):\n",
    "    \"\"\"\n",
    "    Evaluate a policy given an environment and a full description of the \n",
    "    environment's dynamics.\n",
    "    \n",
    "    Args:\n",
    "        policy: [S, A] shaped matrix representing the policy.\n",
    "        env: OpenAI env. env.P represents the transition probabilities of the \n",
    "          environment.\n",
    "            env.P[s][a] is a list of transition tuples (prob, next_state, reward,\n",
    "              done).\n",
    "            env.nS is a number of states in the environment. \n",
    "            env.nA is a number of actions in the environment.\n",
    "        theta: We stop evaluation once our value function change is less than \n",
    "          theta for all states.\n",
    "        discount_factor: Gamma discount factor.\n",
    "    \n",
    "    Returns:\n",
    "        Vector of length env.nS representing the value function.\n",
    "    \"\"\"\n",
    "    \n",
    "    # Start with a random (all 0) value function\n",
    "    V = np.zeros(env.nS)\n",
    "    while True:\n",
    "        V, delta = run_full_sweep(policy, env, V, discount_factor)\n",
    "        # Stop evaluating once our value function change is below a threshold\n",
    "        if delta < theta:\n",
    "            break\n",
    "    return np.array(V)"
   ]
  },
  {
   "cell_type": "markdown",
   "metadata": {
    "colab_type": "text",
    "id": "5vBJZSdSXzH9"
   },
   "source": [
    "## Test Run\n",
    "\n",
    "### Initialise random policy (All actions have equal probabilty)"
   ]
  },
  {
   "cell_type": "code",
   "execution_count": 12,
   "metadata": {
    "colab": {},
    "colab_type": "code",
    "id": "BAizPJCpkH0j"
   },
   "outputs": [
    {
     "data": {
      "text/plain": [
       "array([[0.25, 0.25, 0.25, 0.25],\n",
       "       [0.25, 0.25, 0.25, 0.25],\n",
       "       [0.25, 0.25, 0.25, 0.25],\n",
       "       [0.25, 0.25, 0.25, 0.25],\n",
       "       [0.25, 0.25, 0.25, 0.25],\n",
       "       [0.25, 0.25, 0.25, 0.25],\n",
       "       [0.25, 0.25, 0.25, 0.25],\n",
       "       [0.25, 0.25, 0.25, 0.25],\n",
       "       [0.25, 0.25, 0.25, 0.25],\n",
       "       [0.25, 0.25, 0.25, 0.25],\n",
       "       [0.25, 0.25, 0.25, 0.25],\n",
       "       [0.25, 0.25, 0.25, 0.25],\n",
       "       [0.25, 0.25, 0.25, 0.25],\n",
       "       [0.25, 0.25, 0.25, 0.25],\n",
       "       [0.25, 0.25, 0.25, 0.25],\n",
       "       [0.25, 0.25, 0.25, 0.25]])"
      ]
     },
     "execution_count": 12,
     "metadata": {},
     "output_type": "execute_result"
    }
   ],
   "source": [
    "random_policy = np.ones([env.nS, env.nA]) / env.nA\n",
    "random_policy"
   ]
  },
  {
   "cell_type": "markdown",
   "metadata": {
    "colab_type": "text",
    "id": "AzAkuyrKX-A1"
   },
   "source": [
    "### Evaluate current policy"
   ]
  },
  {
   "cell_type": "code",
   "execution_count": 17,
   "metadata": {
    "colab": {},
    "colab_type": "code",
    "id": "ztiVIB9UYCO4"
   },
   "outputs": [],
   "source": [
    "v = policy_eval(random_policy, env)"
   ]
  },
  {
   "cell_type": "markdown",
   "metadata": {
    "colab_type": "text",
    "id": "AmAqq4UWYD6K"
   },
   "source": [
    "### Print results"
   ]
  },
  {
   "cell_type": "code",
   "execution_count": 18,
   "metadata": {
    "colab": {},
    "colab_type": "code",
    "id": "PDPM08oqkH0l"
   },
   "outputs": [
    {
     "name": "stdout",
     "output_type": "stream",
     "text": [
      "Value Function:\n",
      "array([[  0.        , -13.99989315, -19.99984167, -21.99982282],\n",
      "       [-13.99989315, -17.99986052, -19.99984273, -19.99984167],\n",
      "       [-19.99984167, -19.99984273, -17.99986052, -13.99989315],\n",
      "       [-21.99982282, -19.99984167, -13.99989315,   0.        ]])\n"
     ]
    }
   ],
   "source": [
    "pp = pprint.PrettyPrinter(indent=2)\n",
    "print(\"Value Function:\")\n",
    "pp.pprint(np.reshape(v, (4, 4)))"
   ]
  },
  {
   "cell_type": "markdown",
   "metadata": {
    "colab_type": "text",
    "id": "O7Dlq6jHYH31"
   },
   "source": [
    "#### Simple test"
   ]
  },
  {
   "cell_type": "code",
   "execution_count": 19,
   "metadata": {
    "colab": {},
    "colab_type": "code",
    "id": "wYM5Et6okH0o"
   },
   "outputs": [
    {
     "name": "stdout",
     "output_type": "stream",
     "text": [
      "Expected\n",
      "array([[  0, -14, -20, -22],\n",
      "       [-14, -18, -20, -20],\n",
      "       [-20, -20, -18, -14],\n",
      "       [-22, -20, -14,   0]])\n",
      "\n",
      "Test passed\n"
     ]
    }
   ],
   "source": [
    "# Test: Make sure the evaluated policy is what we expected\n",
    "expected_v = np.array([0, -14, -20, -22, -14, -18, -20, -20, -20, -20, -18, -14,\n",
    "                       -22, -20, -14, 0])\n",
    "print('Expected')\n",
    "pp.pprint(np.reshape(expected_v, (4,4)))\n",
    "print()\n",
    "np.testing.assert_array_almost_equal(v, expected_v, decimal=2)\n",
    "print('Test passed')"
   ]
  },
  {
   "cell_type": "code",
   "execution_count": null,
   "metadata": {
    "colab": {},
    "colab_type": "code",
    "id": "ZVNYkW9cYXEN"
   },
   "outputs": [],
   "source": []
  }
 ],
 "metadata": {
  "colab": {
   "collapsed_sections": [],
   "name": "Lesson-2-Exercise-1-Policy-Evaluation.ipynb",
   "provenance": [],
   "version": "0.3.2"
  },
  "kernelspec": {
   "display_name": "Python [conda root]",
   "language": "python",
   "name": "conda-root-py"
  },
  "language_info": {
   "codemirror_mode": {
    "name": "ipython",
    "version": 3
   },
   "file_extension": ".py",
   "mimetype": "text/x-python",
   "name": "python",
   "nbconvert_exporter": "python",
   "pygments_lexer": "ipython3",
   "version": "3.6.5"
  }
 },
 "nbformat": 4,
 "nbformat_minor": 2
}
