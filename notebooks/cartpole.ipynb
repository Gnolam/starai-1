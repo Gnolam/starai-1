{
 "cells": [
  {
   "cell_type": "code",
   "execution_count": 1,
   "metadata": {},
   "outputs": [],
   "source": [
    "import gym\n",
    "import numpy as np\n",
    "import random\n",
    "from collections import namedtuple, defaultdict\n",
    "\n",
    "from IPython.display import display, clear_output\n",
    "from time import sleep\n",
    "\n",
    "import seaborn as sns\n",
    "import matplotlib.pylab as plt\n",
    "from matplotlib import colors\n",
    "from matplotlib import animation\n",
    "%matplotlib inline"
   ]
  },
  {
   "cell_type": "markdown",
   "metadata": {},
   "source": [
    "# CartPole-v0\n",
    "\n",
    "OpenAI's [cartpole problem](https://gym.openai.com/envs/CartPole-v1/):\n",
    "\n",
    "> A pole is attached by an un-actuated joint to a cart, which moves along a frictionless track. The system is controlled by applying a force of +1 or -1 to the cart. The pendulum starts upright, and the goal is to prevent it from falling over. A reward of +1 is provided for every timestep that the pole remains upright. The episode ends when the pole is more than 15 degrees from vertical, or the cart moves more than 2.4 units from the center.\n",
    "\n",
    "At every time step, you can observe its position (x), velocity (x_dot), angle (theta), and angular velocity (theta_dot). These are the observable states of this world. At any state, the cart only has two possible actions: move to the left or move to the right."
   ]
  },
  {
   "cell_type": "code",
   "execution_count": 354,
   "metadata": {},
   "outputs": [
    {
     "name": "stdout",
     "output_type": "stream",
     "text": [
      "\u001b[33mWARN: gym.spaces.Box autodetected dtype as <class 'numpy.float32'>. Please provide explicit dtype.\u001b[0m\n",
      "Discrete(2) Box(4,)\n"
     ]
    }
   ],
   "source": [
    "env = gym.make('CartPole-v0')\n",
    "print(env.action_space, env.observation_space)"
   ]
  },
  {
   "cell_type": "code",
   "execution_count": 355,
   "metadata": {},
   "outputs": [
    {
     "data": {
      "text/plain": [
       "(array([ 0.03950806,  0.19284216,  0.0218315 , -0.31635172]), 1.0, False, {})"
      ]
     },
     "execution_count": 355,
     "metadata": {},
     "output_type": "execute_result"
    }
   ],
   "source": [
    "env.reset()\n",
    "env.step(env.action_space.sample())"
   ]
  },
  {
   "cell_type": "code",
   "execution_count": 356,
   "metadata": {},
   "outputs": [
    {
     "data": {
      "image/png": "[encoded data removed]",
      "text/plain": [
       "<Figure size 432x288 with 1 Axes>"
      ]
     },
     "metadata": {},
     "output_type": "display_data"
    },
    {
     "name": "stdout",
     "output_type": "stream",
     "text": [
      "[-0.01320475 -0.18903097 -0.04571044  0.31625504]\n",
      "[-0.01698537 -0.38347303 -0.03938534  0.59417929]\n",
      "[-0.02465483 -0.57802222 -0.02750175  0.87420046]\n",
      "[-0.03621527 -0.38253737 -0.01001774  0.57299957]\n",
      "[-0.04386602 -0.57751744  0.00144225  0.86250983]\n"
     ]
    }
   ],
   "source": [
    "def show_cart(frames, episode=0):\n",
    "    \"\"\"shows cartpole inline for jupyterlab\"\"\"\n",
    "    img = plt.imshow(frames[0])\n",
    "    for i, frame in enumerate(frames):\n",
    "        clear_output(wait=True)\n",
    "        img.set_data(frame)\n",
    "        plt.imshow(frame)\n",
    "        plt.text(10,25, f\"Rewards: {len(frames)}\", fontsize=12)\n",
    "        plt.title(f\"Episode {episode}, Frame {i:3}\", fontsize=16)\n",
    "        plt.show()\n",
    "\n",
    "for ep in range(1):\n",
    "    env.reset()\n",
    "    frames = []\n",
    "    obs = []\n",
    "    for i in range(5):\n",
    "        done = False\n",
    "        while not done:\n",
    "            observation, reward, done, info = env.step(env.action_space.sample())\n",
    "            frames.append(env.render(mode='rgb_array'))\n",
    "            obs.append(observation)\n",
    "    show_cart(frames)\n",
    "    [print(ob) for ob in obs[:5]]"
   ]
  },
  {
   "cell_type": "markdown",
   "metadata": {},
   "source": [
    "I want to get an idea of the observations. I'm discarding position and velocity as that seems less important than the angle and the angular velocity:"
   ]
  },
  {
   "cell_type": "code",
   "execution_count": 357,
   "metadata": {},
   "outputs": [
    {
     "name": "stdout",
     "output_type": "stream",
     "text": [
      "0.2681425140402567 -0.2641675107440831 3.273546450538608 -3.2613363988448576\n"
     ]
    },
    {
     "data": {
      "image/png": "[encoded data removed]",
      "text/plain": [
       "<Figure size 432x288 with 1 Axes>"
      ]
     },
     "metadata": {},
     "output_type": "display_data"
    }
   ],
   "source": [
    "theta = []\n",
    "theta_dot = []\n",
    "\n",
    "for i in range(10000):\n",
    "    env.reset()\n",
    "    done = False\n",
    "    while not done:\n",
    "        observation, reward, done, info = env.step(env.action_space.sample())\n",
    "        theta.append(observation[2])\n",
    "        theta_dot.append(observation[3])\n",
    "\n",
    "print(np.max(theta), np.min(theta), np.max(theta_dot), np.min(theta_dot))\n",
    "plt.plot(theta_dot, label=\"Angular Velocity\")     \n",
    "plt.plot(theta, label=\"Angle\")\n",
    "plt.legend();"
   ]
  },
  {
   "cell_type": "markdown",
   "metadata": {},
   "source": [
    "Its clear that the the range is pretty small. So I'm going to digitize the bins like so:"
   ]
  },
  {
   "cell_type": "code",
   "execution_count": 363,
   "metadata": {},
   "outputs": [
    {
     "data": {
      "text/plain": [
       "array([-0.3 , -0.22, -0.14, -0.06,  0.02,  0.1 ,  0.18,  0.26,  0.34])"
      ]
     },
     "execution_count": 363,
     "metadata": {},
     "output_type": "execute_result"
    }
   ],
   "source": [
    "theta_bins = np.arange(-0.3,0.4, 0.08)\n",
    "theta_bins"
   ]
  },
  {
   "cell_type": "code",
   "execution_count": 364,
   "metadata": {},
   "outputs": [
    {
     "data": {
      "text/plain": [
       "array([-3.80000000e+00, -3.60000000e+00, -3.40000000e+00, -3.20000000e+00,\n",
       "       -3.00000000e+00, -2.80000000e+00, -2.60000000e+00, -2.40000000e+00,\n",
       "       -2.20000000e+00, -2.00000000e+00, -1.80000000e+00, -1.60000000e+00,\n",
       "       -1.40000000e+00, -1.20000000e+00, -1.00000000e+00, -8.00000000e-01,\n",
       "       -6.00000000e-01, -4.00000000e-01, -2.00000000e-01,  3.55271368e-15,\n",
       "        2.00000000e-01,  4.00000000e-01,  6.00000000e-01,  8.00000000e-01,\n",
       "        1.00000000e+00,  1.20000000e+00,  1.40000000e+00,  1.60000000e+00,\n",
       "        1.80000000e+00,  2.00000000e+00,  2.20000000e+00,  2.40000000e+00,\n",
       "        2.60000000e+00,  2.80000000e+00,  3.00000000e+00,  3.20000000e+00,\n",
       "        3.40000000e+00,  3.60000000e+00,  3.80000000e+00,  4.00000000e+00])"
      ]
     },
     "execution_count": 364,
     "metadata": {},
     "output_type": "execute_result"
    }
   ],
   "source": [
    "theta_dot_bins = np.arange(-3.8,4.1, 0.2)\n",
    "theta_dot_bins"
   ]
  },
  {
   "cell_type": "code",
   "execution_count": 365,
   "metadata": {},
   "outputs": [],
   "source": [
    "def digitize(observation):\n",
    "    theta = np.digitize(observation[2], bins=theta_bins)\n",
    "    theta_dot = np.digitize(observation[3], bins=theta_dot_bins)\n",
    "    return theta, theta_dot"
   ]
  },
  {
   "cell_type": "markdown",
   "metadata": {},
   "source": [
    "## solving cartpole super simply\n",
    "\n",
    "First up, I'm just going to consider the angle only, so I can continue using my simple qtable from before"
   ]
  },
  {
   "cell_type": "code",
   "execution_count": 366,
   "metadata": {},
   "outputs": [
    {
     "data": {
      "text/plain": [
       "(9, 40, 2)"
      ]
     },
     "execution_count": 366,
     "metadata": {},
     "output_type": "execute_result"
    }
   ],
   "source": [
    "qtable = np.zeros((len(theta_bins), len(theta_dot_bins), env.action_space.n))\n",
    "qtable.shape"
   ]
  },
  {
   "cell_type": "code",
   "execution_count": 368,
   "metadata": {},
   "outputs": [],
   "source": [
    "episodes = 10000\n",
    "epsilon = 0.75 # our max epsilon value, fix this so it increases slowly\n",
    "alpha = 0.3  # the learning rate\n",
    "gamma = 0.89  # the discount rate"
   ]
  },
  {
   "cell_type": "code",
   "execution_count": 378,
   "metadata": {},
   "outputs": [
    {
     "data": {
      "image/png": "[encoded data removed]",
      "text/plain": [
       "<Figure size 432x288 with 1 Axes>"
      ]
     },
     "metadata": {},
     "output_type": "display_data"
    }
   ],
   "source": [
    "def learn_greedy(episodes=episodes, show=False):\n",
    "    \"\"\"moves agent, updates qtable\"\"\"\n",
    "    \n",
    "    rate = 10 / episodes  # the rate at which to increase epsilon\n",
    "    reached_goal = 0\n",
    "    all_rewards = []\n",
    "    \n",
    "    for i in range(episodes):\n",
    "        observation = env.reset()  # reset for each episode\n",
    "        done = False\n",
    "        ep = epsilon - epsilon * 1/(1 + rate*i) # grow epsilon from zero to max\n",
    "        frames = []\n",
    "        rewards = 0\n",
    "        \n",
    "        theta, theta_dot = digitize(observation)\n",
    "        \n",
    "        while not done:\n",
    "            if np.random.random() < ep:\n",
    "                if np.min(qtable[theta, theta_dot]) == np.max(qtable[theta, theta_dot]):\n",
    "                    action = env.action_space.sample()\n",
    "                else:\n",
    "                    action = np.argmax(qtable[theta, theta_dot])\n",
    "            else:\n",
    "                action = env.action_space.sample() # move in a random direction\n",
    "            \n",
    "            observation, reward, done, info = env.step(action) # moved the agent\n",
    "            if show and (i % 2000 == 0):\n",
    "                frames.append(env.render(mode='rgb_array'))\n",
    "            rewards += reward\n",
    "            \n",
    "            theta_next, theta_dot_next = digitize(observation)\n",
    "            \n",
    "            # updating q table\n",
    "            q = qtable[theta, theta_dot, action]\n",
    "            max_q = np.max(qtable[theta_next, theta_dot_next])\n",
    "            qtable[theta, theta_dot, action] = q +  alpha * (reward + gamma * max_q - q)\n",
    "            \n",
    "            theta, theta_dot = theta_next, theta_dot_next\n",
    "        #print(new_state, reward, done, info, action)\n",
    "        \n",
    "        all_rewards.append(rewards)\n",
    "        \n",
    "        if show and (i % 2000 == 0):\n",
    "            show_cart(frames, i)\n",
    "    \n",
    "    return all_rewards\n",
    "    \n",
    "learning_rewards = learn_greedy(show=False)\n",
    "plt.plot(learning_rewards);"
   ]
  },
  {
   "cell_type": "code",
   "execution_count": 380,
   "metadata": {},
   "outputs": [
    {
     "data": {
      "image/png": "[encoded data removed]",
      "text/plain": [
       "<Figure size 432x288 with 1 Axes>"
      ]
     },
     "metadata": {},
     "output_type": "display_data"
    }
   ],
   "source": [
    "plt.plot(learning_rewards[-500:]);"
   ]
  },
  {
   "cell_type": "code",
   "execution_count": 377,
   "metadata": {},
   "outputs": [
    {
     "data": {
      "image/png": "[encoded data removed]",
      "text/plain": [
       "<Figure size 432x288 with 1 Axes>"
      ]
     },
     "metadata": {},
     "output_type": "display_data"
    },
    {
     "data": {
      "text/plain": [
       "[191.0]"
      ]
     },
     "execution_count": 377,
     "metadata": {},
     "output_type": "execute_result"
    }
   ],
   "source": [
    "def play_greedy(episodes=10, epsilon=0.98, show=False):\n",
    "    all_rewards = []\n",
    "    \n",
    "    for i in range(episodes):\n",
    "        observation = env.reset()  # reset for each episode\n",
    "        done = False\n",
    "        theta, theta_dot = digitize(observation)\n",
    "        rewards = 0\n",
    "        frames = []\n",
    "        \n",
    "        while not done:\n",
    "            if np.random.random() < epsilon:\n",
    "                action = np.argmax(qtable[theta, theta_dot])\n",
    "            else:\n",
    "                action = env.action_space.sample() # move in a random direction\n",
    "            observation, reward, done, info = env.step(action) # moved the agent\n",
    "            theta, theta_dot = digitize(observation)\n",
    "            rewards += reward\n",
    "            \n",
    "            if show: frames.append(env.render(mode='rgb_array'))\n",
    "        \n",
    "        all_rewards.append(rewards)\n",
    "        if show: show_cart(frames, i)\n",
    "        \n",
    "    return all_rewards\n",
    "    \n",
    "play_greedy(episodes=1, show=True)"
   ]
  },
  {
   "cell_type": "code",
   "execution_count": null,
   "metadata": {},
   "outputs": [],
   "source": []
  }
 ],
 "metadata": {
  "kernelspec": {
   "display_name": "Python [default]",
   "language": "python",
   "name": "python3"
  },
  "language_info": {
   "codemirror_mode": {
    "name": "ipython",
    "version": 3
   },
   "file_extension": ".py",
   "mimetype": "text/x-python",
   "name": "python",
   "nbconvert_exporter": "python",
   "pygments_lexer": "ipython3",
   "version": "3.6.5"
  }
 },
 "nbformat": 4,
 "nbformat_minor": 2
}
