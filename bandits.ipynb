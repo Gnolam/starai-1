{
 "cells": [
  {
   "cell_type": "markdown",
   "metadata": {},
   "source": [
    "# Multi-armed bandits with OpenAI"
   ]
  },
  {
   "cell_type": "code",
   "execution_count": 42,
   "metadata": {},
   "outputs": [],
   "source": [
    "import gym\n",
    "import gym_bandits   # see https://github.com/JKCooper2/gym-bandits\n",
    "\n",
    "import numpy as np\n",
    "\n",
    "%matplotlib inline\n",
    "import matplotlib.pyplot as plt\n",
    "import seaborn as sns\n",
    "\n",
    "from collections import defaultdict"
   ]
  },
  {
   "cell_type": "markdown",
   "metadata": {},
   "source": [
    "Note: OpenAI doesn't have a multi-armed bandit environment so I'm using this one from https://github.com/JKCooper2/gym-bandits. \n",
    "\n",
    "So we end up with these Bandits:"
   ]
  },
  {
   "cell_type": "code",
   "execution_count": 2,
   "metadata": {},
   "outputs": [
    {
     "name": "stdout",
     "output_type": "stream",
     "text": [
      "we've got 805 environments, with the Bandit ones being:\n"
     ]
    },
    {
     "data": {
      "text/plain": [
       "[EnvSpec(BanditTenArmedRandomFixed-v0),\n",
       " EnvSpec(BanditTenArmedRandomRandom-v0),\n",
       " EnvSpec(BanditTenArmedGaussian-v0),\n",
       " EnvSpec(BanditTenArmedUniformDistributedReward-v0),\n",
       " EnvSpec(BanditTwoArmedDeterministicFixed-v0),\n",
       " EnvSpec(BanditTwoArmedHighHighFixed-v0),\n",
       " EnvSpec(BanditTwoArmedHighLowFixed-v0),\n",
       " EnvSpec(BanditTwoArmedLowLowFixed-v0)]"
      ]
     },
     "execution_count": 2,
     "metadata": {},
     "output_type": "execute_result"
    }
   ],
   "source": [
    "print(f\"we've got {len(gym.envs.registry.all())} environments, with the Bandit ones being:\")\n",
    "[env for env in list(gym.envs.registry.all()) if \"bandit\" in str(env).lower()]"
   ]
  },
  {
   "cell_type": "markdown",
   "metadata": {},
   "source": [
    "## OpenAI gym basics\n",
    "\n",
    "Making an env like so:"
   ]
  },
  {
   "cell_type": "code",
   "execution_count": 3,
   "metadata": {},
   "outputs": [
    {
     "name": "stdout",
     "output_type": "stream",
     "text": [
      "\u001b[33mWARN: Environment '<class 'gym_bandits.bandit.BanditTenArmedGaussian'>' has deprecated methods '_step' and '_reset' rather than 'step' and 'reset'. Compatibility code invoked. Set _gym_disable_underscore_compat = True to disable this behavior.\u001b[0m\n"
     ]
    }
   ],
   "source": [
    "env = gym.make('BanditTenArmedGaussian-v0')"
   ]
  },
  {
   "cell_type": "markdown",
   "metadata": {},
   "source": [
    "See the action space, which for our ten armed bandits is just a number from 0 to 9, representing each bandit - the action is just passing in which bandit to use, and the observation_space is just a number `0` - for in this simple game a game is just one play, so there is no observation per se, just a reward, which could be any number, though in practice with a real bandit it would have a upper bound:"
   ]
  },
  {
   "cell_type": "code",
   "execution_count": 4,
   "metadata": {},
   "outputs": [
    {
     "data": {
      "text/plain": [
       "(Discrete(10), Discrete(1), (-inf, inf))"
      ]
     },
     "execution_count": 4,
     "metadata": {},
     "output_type": "execute_result"
    }
   ],
   "source": [
    "env.action_space, env.observation_space, env.reward_range"
   ]
  },
  {
   "cell_type": "markdown",
   "metadata": {},
   "source": [
    "the gym has a built in method `env.action_space.sample` to randomly sample from the action space. So for the 10 bandits are actions look like:"
   ]
  },
  {
   "cell_type": "code",
   "execution_count": 5,
   "metadata": {},
   "outputs": [
    {
     "data": {
      "text/plain": [
       "[5, 0, 3, 3, 7, 9, 3, 5, 2, 4, 7, 6, 8, 8, 1]"
      ]
     },
     "execution_count": 5,
     "metadata": {},
     "output_type": "execute_result"
    }
   ],
   "source": [
    "[env.action_space.sample() for _ in range(15)]"
   ]
  },
  {
   "cell_type": "markdown",
   "metadata": {},
   "source": [
    "lets take a look at the probability distribution for the bandits:"
   ]
  },
  {
   "cell_type": "code",
   "execution_count": 9,
   "metadata": {},
   "outputs": [
    {
     "data": {
      "text/plain": [
       "array([1, 1, 1, 1, 1, 1, 1, 1, 1, 1])"
      ]
     },
     "execution_count": 9,
     "metadata": {},
     "output_type": "execute_result"
    }
   ],
   "source": [
    "env.unwrapped.p_dist"
   ]
  },
  {
   "cell_type": "markdown",
   "metadata": {},
   "source": [
    "the 1's in the probablity distrubution `p_dist` tells us that each bandit will always pay out. If the p_dist had numbers less than one, like 0.5, then we would have a 50% probablity of a payout. So lets take a look at the actual payouts - the reward distribution `r_dist` tells us the mean and the std dev of the payment of each bandit:"
   ]
  },
  {
   "cell_type": "code",
   "execution_count": 8,
   "metadata": {},
   "outputs": [
    {
     "data": {
      "text/plain": [
       "[[0.7628161654577119, 1],\n",
       " [0.3160977245132496, 1],\n",
       " [-1.1250449656588166, 1],\n",
       " [1.7746462255584685, 1],\n",
       " [-0.6349177546013717, 1],\n",
       " [-0.9636746610897318, 1],\n",
       " [-0.778100957636072, 1],\n",
       " [2.1184172163730732, 1],\n",
       " [0.2900750605388444, 1],\n",
       " [-0.9139533292718035, 1]]"
      ]
     },
     "execution_count": 8,
     "metadata": {},
     "output_type": "execute_result"
    }
   ],
   "source": [
    "actual_rewards = env.unwrapped.r_dist\n",
    "actual_rewards"
   ]
  },
  {
   "cell_type": "code",
   "execution_count": 127,
   "metadata": {},
   "outputs": [
    {
     "data": {
      "image/png": "[encoded data removed]",
      "text/plain": [
       "<Figure size 1008x360 with 2 Axes>"
      ]
     },
     "metadata": {},
     "output_type": "display_data"
    }
   ],
   "source": [
    "fig, axes = plt.subplots(1,2, figsize=(14,5), sharey=True)\n",
    "\n",
    "axes[0].set_title(\"Average Payout per Bandit\")\n",
    "axes[0].set_xlabel(\"Bandit\")\n",
    "axes[0].set_ylabel(\"Payout\")\n",
    "for i, r in enumerate([r for r,_ in actual_rewards]):\n",
    "    axes[0].bar(i, r, label=f\"Bandit {i}\")\n",
    "\n",
    "axes[1].set_title(\"Average Payout per Bandit\")\n",
    "for i, r in enumerate([r for r,_ in actual_rewards]):\n",
    "    axes[1].scatter(1, r, label=f\"Bandit {i}\", s=100)\n",
    "axes[1].hlines(0, 0.5,1.5)\n",
    "axes[1].legend();"
   ]
  },
  {
   "cell_type": "markdown",
   "metadata": {},
   "source": [
    "## The basics of an openai env are:\n",
    "\n",
    "- **observations** - an object giving the state of the environment, like position of pieces on a board, velocities, camera data, etc\n",
    "- **reward** - a float number the reward after an action, generally higher the better, with +ve being good and -ve being bad\n",
    "- **done** - many environments have an end state, so this tells us if we're finished (agent died, game ended, etc)\n",
    "- **info** - diagnostic info\n",
    "\n",
    "So lets take a look at our multi-armed bandits:"
   ]
  },
  {
   "cell_type": "code",
   "execution_count": 7,
   "metadata": {},
   "outputs": [
    {
     "name": "stdout",
     "output_type": "stream",
     "text": [
      "episode Number is 0\n",
      "action is 6\n",
      "observation space is:  0\n",
      "reward variable is:  -1.219889651437949\n",
      "done flag is:  True\n",
      "info variable is:  {}\n",
      "----------------------------------------\n",
      "episode Number is 1\n",
      "action is 7\n",
      "observation space is:  0\n",
      "reward variable is:  1.3200084553910885\n",
      "done flag is:  True\n",
      "info variable is:  {}\n",
      "----------------------------------------\n",
      "episode Number is 2\n",
      "action is 7\n",
      "observation space is:  0\n",
      "reward variable is:  2.2779578822808193\n",
      "done flag is:  True\n",
      "info variable is:  {}\n",
      "----------------------------------------\n"
     ]
    }
   ],
   "source": [
    "observation = env.reset()\n",
    "\n",
    "for i_episode in range(3):\n",
    "  \n",
    "    print(\"episode Number is\", i_episode)   \n",
    "    action = env.action_space.sample() # sampling the \"action\" array which in this case only contains 10 \"options\" because there is 10 bandits\n",
    "    print(\"action is\", action)\n",
    "        \n",
    "    # here we taking the next \"step\" in our environment by taking in our action variable randomly selected above\n",
    "    observation, reward, done, info = env.step(action) \n",
    "        \n",
    "    print(\"observation space is: \",observation)\n",
    "    print(\"reward variable is: \",reward)\n",
    "    print(\"done flag is: \",done)\n",
    "    print(\"info variable is: \",info)\n",
    "    print(\"--\"*20)\n",
    "            \n",
    "env.close()"
   ]
  },
  {
   "cell_type": "code",
   "execution_count": null,
   "metadata": {},
   "outputs": [],
   "source": []
  }
 ],
 "metadata": {
  "kernelspec": {
   "display_name": "Python [conda root]",
   "language": "python",
   "name": "conda-root-py"
  },
  "language_info": {
   "codemirror_mode": {
    "name": "ipython",
    "version": 3
   },
   "file_extension": ".py",
   "mimetype": "text/x-python",
   "name": "python",
   "nbconvert_exporter": "python",
   "pygments_lexer": "ipython3",
   "version": "3.6.5"
  }
 },
 "nbformat": 4,
 "nbformat_minor": 2
}
